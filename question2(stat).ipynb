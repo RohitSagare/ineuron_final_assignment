{
 "cells": [
  {
   "cell_type": "markdown",
   "id": "04a0273d",
   "metadata": {},
   "source": [
    "# Q-2. Consider a dataset containing the heights (in centimeters) of 1000 individuals. The mean height is 170 cm with a standard deviation of 10 cm. The dataset is approximately normally distributed, and its skewness is approximately zero. Based on this information, answer the following questions:\n",
    "\n"
   ]
  },
  {
   "cell_type": "markdown",
   "id": "fe10ca15",
   "metadata": {},
   "source": [
    "# a. What percentage of individuals in the dataset have heights between 160 cm and 180 cm?"
   ]
  },
  {
   "cell_type": "markdown",
   "id": "483d8ae0",
   "metadata": {},
   "source": [
    "from the above given information mean is 170 cm , we need to calculate z scores for 160 and 180 cm "
   ]
  },
  {
   "cell_type": "code",
   "execution_count": 2,
   "id": "827f9708",
   "metadata": {},
   "outputs": [
    {
     "name": "stdout",
     "output_type": "stream",
     "text": [
      "z1 = -1.0 , z2=1.0\n"
     ]
    }
   ],
   "source": [
    "z1 = (160 - 170) / 10 \n",
    "z2 = (180 - 170) / 10 \n",
    "print(f'z1 = {z1} , z2={z2}')"
   ]
  },
  {
   "cell_type": "markdown",
   "id": "f69790e7",
   "metadata": {},
   "source": [
    "now we will see these values in z table "
   ]
  },
  {
   "cell_type": "markdown",
   "id": "16226e82",
   "metadata": {},
   "source": [
    "value for z1 is 0.1587 and for z2 is 0.8413 . \n",
    "From this information we will calculate percentage of individuals having heights between 160 cm and 180 cm"
   ]
  },
  {
   "cell_type": "code",
   "execution_count": 5,
   "id": "4ff2ac15",
   "metadata": {},
   "outputs": [
    {
     "name": "stdout",
     "output_type": "stream",
     "text": [
      " final answer is 68.26%\n"
     ]
    }
   ],
   "source": [
    "answer=0.8413-0.1587\n",
    "print(f' final answer is {answer*100}%')"
   ]
  },
  {
   "cell_type": "markdown",
   "id": "f81eb0ea",
   "metadata": {},
   "source": [
    "# b. If we randomly select 100 individuals from the dataset, what is the probability that their average height is greater than 175 cm?"
   ]
  },
  {
   "cell_type": "markdown",
   "id": "3202da49",
   "metadata": {},
   "source": [
    "In this case, the population mean is 170 cm and the population standard deviation is 10 cm. We are sampling 100 individuals, so the standard deviation of the sample mean (also known as the standard error) can be calculated as:\n",
    "\n",
    "Standard Error = population standard deviation / sqrt(sample size)"
   ]
  },
  {
   "cell_type": "code",
   "execution_count": 20,
   "id": "3ce45ced",
   "metadata": {},
   "outputs": [
    {
     "data": {
      "text/plain": [
       "1.0"
      ]
     },
     "execution_count": 20,
     "metadata": {},
     "output_type": "execute_result"
    }
   ],
   "source": [
    "from math import sqrt\n",
    "standardError= 10 / sqrt(100)\n",
    "standardError"
   ]
  },
  {
   "cell_type": "markdown",
   "id": "8c0dd56c",
   "metadata": {},
   "source": [
    "Now, we need to calculate the z-score for the average height of 175 cm .\n",
    "\n",
    "z = (sample mean - population mean) / standard deviation"
   ]
  },
  {
   "cell_type": "code",
   "execution_count": 21,
   "id": "5b05aeaf",
   "metadata": {},
   "outputs": [
    {
     "data": {
      "text/plain": [
       "5.0"
      ]
     },
     "execution_count": 21,
     "metadata": {},
     "output_type": "execute_result"
    }
   ],
   "source": [
    "z= (175 - 170) /standardError\n",
    "z"
   ]
  },
  {
   "cell_type": "markdown",
   "id": "8dda4406",
   "metadata": {},
   "source": [
    "we see 0.5 in z-table and get a value of 0.69146\n",
    "hence the significance level is"
   ]
  },
  {
   "cell_type": "markdown",
   "id": "082cc5ee",
   "metadata": {},
   "source": [
    "now we will calculate z score using standard error"
   ]
  },
  {
   "cell_type": "markdown",
   "id": "2c046a43",
   "metadata": {},
   "source": [
    " the probability of obtaining a z-score greater than 5 is extremely close to 0.\n",
    " \n",
    "Hence,the probability that the average height of a random sample of 100 individuals from the dataset is greater than 175 cm is almost 0."
   ]
  },
  {
   "cell_type": "code",
   "execution_count": 10,
   "id": "117fd868",
   "metadata": {},
   "outputs": [
    {
     "data": {
      "text/plain": [
       "0.31000000000000005"
      ]
     },
     "execution_count": 10,
     "metadata": {},
     "output_type": "execute_result"
    }
   ],
   "source": [
    "1-0.69"
   ]
  },
  {
   "cell_type": "markdown",
   "id": "a3bdc421",
   "metadata": {},
   "source": [
    "# c. Assuming the dataset follows a normal distribution, what is the z-score corresponding to a height of 185 cm?"
   ]
  },
  {
   "cell_type": "code",
   "execution_count": 22,
   "id": "143e7b25",
   "metadata": {},
   "outputs": [
    {
     "name": "stdout",
     "output_type": "stream",
     "text": [
      "z-score for the height of 185 cm is 1.5\n"
     ]
    }
   ],
   "source": [
    "z= (185 - 170) /10\n",
    "print(f'z-score for the height of 185 cm is {z}')"
   ]
  },
  {
   "cell_type": "markdown",
   "id": "a590991e",
   "metadata": {},
   "source": [
    "# d. We know that 5% of the dataset has heights below a certain value. What is the approximate height corresponding to this threshold?"
   ]
  },
  {
   "cell_type": "markdown",
   "id": "5350e320",
   "metadata": {},
   "source": [
    "z-score for the 5% i.e 0.05 is -1.645\n",
    "\n",
    "so we can calculate height as follows\n",
    "\n",
    "Height = (z-score * standard deviation) + mean"
   ]
  },
  {
   "cell_type": "code",
   "execution_count": 23,
   "id": "a7f91d4b",
   "metadata": {},
   "outputs": [
    {
     "name": "stdout",
     "output_type": "stream",
     "text": [
      "so the height at 5% threshold is 153.55\n"
     ]
    }
   ],
   "source": [
    "height = (-1.645*10)+170\n",
    "print(f'so the height at 5% threshold is {height}')"
   ]
  },
  {
   "cell_type": "markdown",
   "id": "02a9ffaf",
   "metadata": {},
   "source": [
    "# e.Calculate the coefficient of variation (CV) for the dataset."
   ]
  },
  {
   "cell_type": "markdown",
   "id": "895fbbc6",
   "metadata": {},
   "source": [
    "The formula for the coefficient of variation is: Coefficient of Variation = (Standard Deviation / Mean) * 100"
   ]
  },
  {
   "cell_type": "code",
   "execution_count": 24,
   "id": "dd928d91",
   "metadata": {},
   "outputs": [
    {
     "name": "stdout",
     "output_type": "stream",
     "text": [
      "coefficient of variation for this dataset is 5.88235294117647\n"
     ]
    }
   ],
   "source": [
    "cv=(10/170)*100\n",
    "print(f'coefficient of variation for this dataset is {cv}')"
   ]
  },
  {
   "cell_type": "markdown",
   "id": "a761c15c",
   "metadata": {},
   "source": [
    "# f.Calculate the skewness of the dataset and interpret the result."
   ]
  },
  {
   "cell_type": "markdown",
   "id": "2df13dde",
   "metadata": {},
   "source": [
    "formula for skewness is\n",
    "\n",
    "Skewness = (3 * (Mean - Median)) / Standard Deviation\n",
    "\n",
    "since it is already stated that skewness of our data is zero we can assume mean and median to be similar"
   ]
  },
  {
   "cell_type": "code",
   "execution_count": 26,
   "id": "3f20e3dc",
   "metadata": {},
   "outputs": [
    {
     "name": "stdout",
     "output_type": "stream",
     "text": [
      "skewness of data is 0.0\n"
     ]
    }
   ],
   "source": [
    "skewness = (3 * (170 - 170)) / 10\n",
    "print(f'skewness of data is {skewness}')"
   ]
  },
  {
   "cell_type": "code",
   "execution_count": null,
   "id": "496d3ee3",
   "metadata": {},
   "outputs": [],
   "source": []
  }
 ],
 "metadata": {
  "kernelspec": {
   "display_name": "Python 3 (ipykernel)",
   "language": "python",
   "name": "python3"
  },
  "language_info": {
   "codemirror_mode": {
    "name": "ipython",
    "version": 3
   },
   "file_extension": ".py",
   "mimetype": "text/x-python",
   "name": "python",
   "nbconvert_exporter": "python",
   "pygments_lexer": "ipython3",
   "version": "3.9.7"
  }
 },
 "nbformat": 4,
 "nbformat_minor": 5
}
